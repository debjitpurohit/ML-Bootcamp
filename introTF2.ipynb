{
  "cells": [
    {
      "cell_type": "markdown",
      "metadata": {
        "id": "view-in-github",
        "colab_type": "text"
      },
      "source": [
        "<a href=\"https://colab.research.google.com/github/debjitpurohit/ML-Bootcamp/blob/master/introTF2.ipynb\" target=\"_parent\"><img src=\"https://colab.research.google.com/assets/colab-badge.svg\" alt=\"Open In Colab\"/></a>"
      ]
    },
    {
      "cell_type": "markdown",
      "metadata": {
        "id": "qC3EFakNE5S8"
      },
      "source": [
        "## TensorFlow:\n",
        "TensorFlow is the most popular and adopted free and open-source deep learning library. It was first developed and maintained by Google. It can be used for both research and production."
      ]
    },
    {
      "cell_type": "markdown",
      "metadata": {
        "id": "mbmTrhGWE5S-"
      },
      "source": [
        "## **TensorFlow benefits:**\n",
        "- Highly efficient\n",
        "- Cross-platform (works on IOS, Android, Unix, Windows, in the cloud, in the browser etc etc)\n",
        "- Calculates gradients automatically (this is truly useful for Neural Networks, where the analytical solution of gradients would be VERY tedious to derive).\n",
        "* Deep integration with the Keras library (Functional approach, as well as high-level wrapper)"
      ]
    },
    {
      "cell_type": "markdown",
      "metadata": {
        "id": "-Mpcc_wPE5S_"
      },
      "source": [
        "# General notebook setup"
      ]
    },
    {
      "cell_type": "code",
      "execution_count": null,
      "metadata": {
        "id": "9QIHYRnSE5S_"
      },
      "outputs": [],
      "source": [
        "import pandas as pd\n",
        "import numpy as np\n",
        "import matplotlib.pyplot as plt\n",
        "\n",
        "%matplotlib inline\n",
        "\n",
        "# Hide warnings\n",
        "import warnings\n",
        "warnings.filterwarnings('ignore')"
      ]
    },
    {
      "cell_type": "markdown",
      "metadata": {
        "id": "oyRnGSdUE5TA"
      },
      "source": [
        "# Install TensorFlow 2.0\n",
        "\n",
        "TensorFlow 2.x is a major change from TensorFlow 1.x (not backwards compatible, however you can use a tool to convert your TensorFlow 1.x code to 2.x).\n",
        "\n",
        "The new version is designed to be more pythonic. It's  easier to debug models, extract values during training (because of the need of sessions and graphs in TensorFlow 1.x).\n",
        "\n",
        "TensorFlow 2.x supports eager execution by default, so you don't need a session and to evaluate operations / tensors in order to extract values."
      ]
    },
    {
      "cell_type": "code",
      "execution_count": null,
      "metadata": {
        "id": "Q6UXwCpZE5TB"
      },
      "outputs": [],
      "source": [
        "#!pip install tensorflow\n",
        "# or for GPU version:\n",
        "# !pip install tensorflow-gpu"
      ]
    },
    {
      "cell_type": "markdown",
      "metadata": {
        "id": "Hy6OluCnE5TB"
      },
      "source": [
        "# Import TensorFlow"
      ]
    },
    {
      "cell_type": "code",
      "execution_count": null,
      "metadata": {
        "id": "D-5zdDwHE5TB"
      },
      "outputs": [],
      "source": [
        "# Canonical way of importing TensorFlow\n",
        "import tensorflow as tf\n",
        "\n",
        "# If this doesn't work TensorFlow is not installed correctly"
      ]
    },
    {
      "cell_type": "markdown",
      "metadata": {
        "id": "haQoT5DUE5TB"
      },
      "source": [
        "# TensorFlow 2.0\n",
        "At the time of the update of this notebook we are still in the early days of TensorFlow, and currently (Oct 22) the version 2.0.0 has just been released."
      ]
    },
    {
      "cell_type": "code",
      "execution_count": null,
      "metadata": {
        "id": "l7rCkoefE5TC",
        "outputId": "38bed7e7-c207-41c3-ec07-9c8df3df27ef"
      },
      "outputs": [
        {
          "data": {
            "text/plain": [
              "'2.6.2'"
            ]
          },
          "execution_count": 42,
          "metadata": {},
          "output_type": "execute_result"
        }
      ],
      "source": [
        "# Check tf version, oftentimes tensorflow is not backwards compatible\n",
        "tf.__version__\n",
        "\n",
        "# should be tensorflow 2"
      ]
    },
    {
      "cell_type": "markdown",
      "metadata": {
        "id": "P1SNLYNPE5TC"
      },
      "source": [
        "# Intro to TensorFlow\n",
        "### Core components:\n",
        "\n",
        "#### 1. Tensor\n",
        "A Tensor in TensorFlow is an N-dimensional array (just like Numpys array object). Tensors are multilinear maps from vector spaces to real numbers. Scalars, vectors and matrices are all tensors. The Tensor represents units of data in TensorFlow.\n",
        "\n",
        "Numpy arrays or Pandas DataFrames sent to Tensorflow functions are automatically converted into TensorFlow tensors.\n",
        "\n",
        "#### 2. Operations / Ops\n",
        "TensorFlow operations or ops are units / edges / nodes of computation (e.g. matrix multiplication, addition, etc.)\n",
        "\n",
        "#### 3. Computation Graph\n",
        "The computational graph is is an optimized, compiled representation of the dataflow and the order of computations that are sent to an execution environment (for example during model training).\n",
        "\n",
        "TensforFlow 2.x supports eager execution, but when we build a model and then train it TensorFlow can compile the model and optimize the executions as a computational graph object. This is done by decorating a function with `@tf.function`.\n",
        "\n",
        "This computational graph is then  sent to another instance / runtime environment (e.g. on a CPU or GPU) for execution. The results are sent back to us. This makes TensorFlow computations highly distributable and it also allows us to automatically evaluate all gradients in the computation nodes.\n",
        "\n",
        "![](imgs/tf_graph.png)"
      ]
    },
    {
      "cell_type": "markdown",
      "metadata": {
        "id": "ktb_JB7ME5TD"
      },
      "source": [
        "TensorFlow 2.x supports eager execution by default."
      ]
    },
    {
      "cell_type": "code",
      "execution_count": null,
      "metadata": {
        "id": "GtgYyLEuE5TD",
        "outputId": "9b6a7475-19c6-4e50-ea4e-2fd5d3e5b7fe"
      },
      "outputs": [
        {
          "data": {
            "text/plain": [
              "True"
            ]
          },
          "execution_count": 43,
          "metadata": {},
          "output_type": "execute_result"
        }
      ],
      "source": [
        "tf.executing_eagerly()"
      ]
    },
    {
      "cell_type": "code",
      "execution_count": null,
      "metadata": {
        "id": "2jfp_X2qE5TD"
      },
      "outputs": [],
      "source": [
        "a = tf.Variable(20)"
      ]
    },
    {
      "cell_type": "code",
      "execution_count": null,
      "metadata": {
        "id": "_qoWa8-hE5TE",
        "outputId": "da827de2-4029-47e7-e75c-fe33b3de3873"
      },
      "outputs": [
        {
          "data": {
            "text/plain": [
              "tensorflow.python.ops.resource_variable_ops.ResourceVariable"
            ]
          },
          "execution_count": 45,
          "metadata": {},
          "output_type": "execute_result"
        }
      ],
      "source": [
        "type(a)"
      ]
    },
    {
      "cell_type": "code",
      "execution_count": null,
      "metadata": {
        "id": "P3lTK4lhE5TE"
      },
      "outputs": [],
      "source": []
    },
    {
      "cell_type": "markdown",
      "metadata": {
        "id": "xL2LhC6lE5TE"
      },
      "source": [
        "# TensorBoard setup\n",
        "Tip2: Setup TensorBoard if you want to monitor and analyze computational graphs etc."
      ]
    },
    {
      "cell_type": "code",
      "execution_count": null,
      "metadata": {
        "id": "FYD5UPs-E5TE"
      },
      "outputs": [],
      "source": [
        "from datetime import datetime\n",
        "import os\n",
        "import pathlib\n",
        "\n",
        "t = datetime.utcnow().strftime(\"%Y%m%d%H%M%S\")\n",
        "log_dir = \"tf_logs\"\n",
        "logd = \"{}/r{}/\".format(log_dir, t)\n",
        "\n",
        "# Make directory if it doesn't exist\n",
        "\n",
        "from pathlib import Path\n",
        "home = str(Path.home())\n",
        "\n",
        "logdir = os.path.join(os.sep,home,logd)\n",
        "\n",
        "if not os.path.exists(logdir):\n",
        "    os.makedirs(logdir)"
      ]
    },
    {
      "cell_type": "code",
      "execution_count": null,
      "metadata": {
        "id": "WyVBvJlxE5TF",
        "outputId": "3746e97d-a503-4412-a607-227db05ab548"
      },
      "outputs": [
        {
          "data": {
            "text/plain": [
              "'C:\\\\Users\\\\debjit\\\\tf_logs/r20240506065106/'"
            ]
          },
          "execution_count": 47,
          "metadata": {},
          "output_type": "execute_result"
        }
      ],
      "source": [
        "logdir"
      ]
    },
    {
      "cell_type": "markdown",
      "metadata": {
        "id": "I4kaylMmE5TF"
      },
      "source": [
        "# 1. TensorFlow tensors"
      ]
    },
    {
      "cell_type": "markdown",
      "metadata": {
        "id": "VYFSfEfaE5TF"
      },
      "source": [
        "## 1.1 tf.constant"
      ]
    },
    {
      "cell_type": "markdown",
      "metadata": {
        "id": "pt-5wMzEE5TF"
      },
      "source": [
        "Constants are initialized directly and eager execution let's us see the values without creating a session and running the tensor."
      ]
    },
    {
      "cell_type": "code",
      "execution_count": null,
      "metadata": {
        "id": "y9qVt-vxE5TF"
      },
      "outputs": [],
      "source": [
        "a = tf.constant(2)\n",
        "b = tf.constant(5)"
      ]
    },
    {
      "cell_type": "code",
      "execution_count": null,
      "metadata": {
        "id": "JXAjd4o_E5TG",
        "outputId": "2da3d543-82b0-4ce1-a15f-ed1811694417"
      },
      "outputs": [
        {
          "data": {
            "text/plain": [
              "<tf.Tensor: shape=(), dtype=int32, numpy=2>"
            ]
          },
          "execution_count": 49,
          "metadata": {},
          "output_type": "execute_result"
        }
      ],
      "source": [
        "a # note the numpy value"
      ]
    },
    {
      "cell_type": "markdown",
      "metadata": {
        "id": "KVdeLGnfE5TG"
      },
      "source": [
        "The .numpy() method will return the result as a numpy array."
      ]
    },
    {
      "cell_type": "code",
      "execution_count": null,
      "metadata": {
        "scrolled": true,
        "id": "xKiBlfnyE5TG",
        "outputId": "d8f4f90d-5b80-4229-bbc9-539d34303327"
      },
      "outputs": [
        {
          "data": {
            "text/plain": [
              "2"
            ]
          },
          "execution_count": 50,
          "metadata": {},
          "output_type": "execute_result"
        }
      ],
      "source": [
        "# Eager evaluation of tensors\n",
        "a.numpy()"
      ]
    },
    {
      "cell_type": "markdown",
      "metadata": {
        "id": "aYllo-U8E5TG"
      },
      "source": [
        "### We can also perform operations on tensors"
      ]
    },
    {
      "cell_type": "code",
      "execution_count": null,
      "metadata": {
        "id": "TfXB_5thE5TH",
        "outputId": "757aaa0a-0a9e-4e50-e8f5-c4d57344610d"
      },
      "outputs": [
        {
          "data": {
            "text/plain": [
              "<tf.Tensor: shape=(), dtype=int32, numpy=10>"
            ]
          },
          "execution_count": 51,
          "metadata": {},
          "output_type": "execute_result"
        }
      ],
      "source": [
        "a*b"
      ]
    },
    {
      "cell_type": "markdown",
      "metadata": {
        "id": "7G9rvO6rE5TH"
      },
      "source": [
        "#### or the same with universal functions"
      ]
    },
    {
      "cell_type": "code",
      "execution_count": null,
      "metadata": {
        "id": "XefEp8-uE5TH",
        "outputId": "b5740819-d44c-4d3c-d231-3f37d0f3da70"
      },
      "outputs": [
        {
          "data": {
            "text/plain": [
              "10"
            ]
          },
          "execution_count": 52,
          "metadata": {},
          "output_type": "execute_result"
        }
      ],
      "source": [
        "tf.multiply(a,b).numpy()"
      ]
    },
    {
      "cell_type": "code",
      "execution_count": null,
      "metadata": {
        "id": "fGSZxSfDE5TI",
        "outputId": "d059be75-31f5-4da0-ca00-e5f5c54a0f4a"
      },
      "outputs": [
        {
          "data": {
            "text/plain": [
              "<tf.Tensor: shape=(2, 2), dtype=int32, numpy=\n",
              "array([[5, 6],\n",
              "       [7, 8]])>"
            ]
          },
          "execution_count": 53,
          "metadata": {},
          "output_type": "execute_result"
        }
      ],
      "source": [
        "a_matrix = tf.constant([[1,2], [3,4]])\n",
        "b_matrix = tf.constant([[5,6], [7,8]])\n",
        "b_matrix"
      ]
    },
    {
      "cell_type": "code",
      "execution_count": null,
      "metadata": {
        "id": "CSwIjUVOE5TI",
        "outputId": "11a86ce7-d561-4984-cb31-b76797c8ba97"
      },
      "outputs": [
        {
          "data": {
            "text/plain": [
              "<tf.Tensor: shape=(2, 2), dtype=int32, numpy=\n",
              "array([[19, 22],\n",
              "       [43, 50]])>"
            ]
          },
          "execution_count": 54,
          "metadata": {},
          "output_type": "execute_result"
        }
      ],
      "source": [
        "tf.matmul(a_matrix, b_matrix)"
      ]
    },
    {
      "cell_type": "markdown",
      "metadata": {
        "id": "gwhRYmZmE5TJ"
      },
      "source": [
        "##### Note, we cannot reassign values of constants (like we can with Variables)."
      ]
    },
    {
      "cell_type": "code",
      "execution_count": null,
      "metadata": {
        "id": "PyCab3bYE5TJ",
        "outputId": "ca9cc9c0-cfca-4d24-b030-f5522df231cb"
      },
      "outputs": [
        {
          "name": "stdout",
          "output_type": "stream",
          "text": [
            "tf.Tensor(\n",
            "[[1 2]\n",
            " [3 4]], shape=(2, 2), dtype=int32)\n",
            "tf.Tensor(\n",
            "[[5 6]\n",
            " [7 8]], shape=(2, 2), dtype=int32)\n"
          ]
        }
      ],
      "source": [
        "print(a_matrix, b_matrix, sep=\"\\n\")"
      ]
    },
    {
      "cell_type": "markdown",
      "metadata": {
        "id": "Ftd5JDhCE5TJ"
      },
      "source": [
        "## 1.2 tf.Variable\n",
        "\n",
        "Variables are mutable and can be updated and reassigned new values. Variables are usually weights and biases of a model that are optimized during training, they also indicate the degrees of freedom of the model (what model parameters that can change, thus making the model flexible)."
      ]
    },
    {
      "cell_type": "code",
      "execution_count": null,
      "metadata": {
        "id": "yGROinkyE5TK",
        "outputId": "6aebb2a1-443b-4187-a61a-ef1629b4036a"
      },
      "outputs": [
        {
          "data": {
            "text/plain": [
              "<tf.Variable 'Variable:0' shape=() dtype=float32, numpy=3.0>"
            ]
          },
          "execution_count": 56,
          "metadata": {},
          "output_type": "execute_result"
        }
      ],
      "source": [
        "var = tf.Variable(3.)\n",
        "var"
      ]
    },
    {
      "cell_type": "code",
      "execution_count": null,
      "metadata": {
        "id": "Te8_qlQuE5TK",
        "outputId": "cebf4351-e6c3-4a92-bedf-d0c5be6a9aa6"
      },
      "outputs": [
        {
          "data": {
            "text/plain": [
              "<tf.Variable 'Variable:0' shape=() dtype=float32, numpy=4.0>"
            ]
          },
          "execution_count": 57,
          "metadata": {},
          "output_type": "execute_result"
        }
      ],
      "source": [
        "# Reassign the value of a Variable\n",
        "var.assign(4)\n",
        "var"
      ]
    },
    {
      "cell_type": "code",
      "execution_count": null,
      "metadata": {
        "id": "hD7SFYdzE5TL",
        "outputId": "d47ad9e1-0358-41b8-c649-5023407bf8ad"
      },
      "outputs": [
        {
          "data": {
            "text/plain": [
              "4.0"
            ]
          },
          "execution_count": 58,
          "metadata": {},
          "output_type": "execute_result"
        }
      ],
      "source": [
        "var.numpy()"
      ]
    },
    {
      "cell_type": "code",
      "execution_count": null,
      "metadata": {
        "id": "8F_QXpE4E5TL",
        "outputId": "947cc8fe-0a5d-48fb-c99a-fe7325323046"
      },
      "outputs": [
        {
          "ename": "NameError",
          "evalue": "name 'np' is not defined",
          "output_type": "error",
          "traceback": [
            "\u001b[1;31m---------------------------------------------------------------------------\u001b[0m",
            "\u001b[1;31mNameError\u001b[0m                                 Traceback (most recent call last)",
            "\u001b[1;32m<ipython-input-59-2290aa7c0e87>\u001b[0m in \u001b[0;36m<module>\u001b[1;34m\u001b[0m\n\u001b[0;32m      1\u001b[0m \u001b[1;31m# we can also create multi dim Variables.\u001b[0m\u001b[1;33m\u001b[0m\u001b[1;33m\u001b[0m\u001b[1;33m\u001b[0m\u001b[0m\n\u001b[1;32m----> 2\u001b[1;33m \u001b[0md\u001b[0m \u001b[1;33m=\u001b[0m \u001b[0mtf\u001b[0m\u001b[1;33m.\u001b[0m\u001b[0mVariable\u001b[0m\u001b[1;33m(\u001b[0m\u001b[0mnp\u001b[0m\u001b[1;33m.\u001b[0m\u001b[0mrandom\u001b[0m\u001b[1;33m.\u001b[0m\u001b[0mrandn\u001b[0m\u001b[1;33m(\u001b[0m\u001b[1;36m3\u001b[0m\u001b[1;33m,\u001b[0m \u001b[1;36m3\u001b[0m\u001b[1;33m)\u001b[0m\u001b[1;33m)\u001b[0m \u001b[1;31m#reshape\u001b[0m\u001b[1;33m\u001b[0m\u001b[1;33m\u001b[0m\u001b[0m\n\u001b[0m\u001b[0;32m      3\u001b[0m \u001b[1;31m# automatically assings data type\u001b[0m\u001b[1;33m\u001b[0m\u001b[1;33m\u001b[0m\u001b[1;33m\u001b[0m\u001b[0m\n\u001b[0;32m      4\u001b[0m \u001b[0md\u001b[0m \u001b[1;31m#\u001b[0m\u001b[1;33m\u001b[0m\u001b[1;33m\u001b[0m\u001b[0m\n",
            "\u001b[1;31mNameError\u001b[0m: name 'np' is not defined"
          ]
        }
      ],
      "source": [
        "# we can also create multi dim Variables.\n",
        "d = tf.Variable(np.random.randn(3, 3)) #reshape\n",
        "# automatically assings data type\n",
        "d #"
      ]
    },
    {
      "cell_type": "code",
      "execution_count": null,
      "metadata": {
        "id": "RYPuIEXJE5TY",
        "outputId": "130ccc71-1b6d-4d91-efee-1be7d2e45aa4"
      },
      "outputs": [
        {
          "name": "stdout",
          "output_type": "stream",
          "text": [
            "original value: 10.0\n",
            "add 1: 11.0\n",
            "subtract 5: 6.0\n"
          ]
        }
      ],
      "source": [
        "# inplace increase / decrease Variable values\n",
        "\n",
        "var.assign(10)\n",
        "print('original value:', var.numpy())\n",
        "print('add 1:', var.assign_add(1.).numpy())\n",
        "print('subtract 5:', var.assign_sub(5.).numpy())"
      ]
    },
    {
      "cell_type": "markdown",
      "metadata": {
        "id": "x4LvKaQ5E5TZ"
      },
      "source": [
        "### Variables also have a lot of attributes associated with them:"
      ]
    },
    {
      "cell_type": "code",
      "execution_count": null,
      "metadata": {
        "id": "WftiXMQUE5TZ",
        "outputId": "ec510a90-22fd-49aa-eb84-7e863dbd9604"
      },
      "outputs": [
        {
          "name": "stdout",
          "output_type": "stream",
          "text": [
            "name  :  my_variable:0\n",
            "type  :  <dtype: 'float32'>\n",
            "shape :  (2, 2)\n",
            "device:  /job:localhost/replica:0/task:0/device:CPU:0\n"
          ]
        }
      ],
      "source": [
        "v = tf.Variable([[3.,3.2], [1.2,2.2]], dtype=tf.float32, name='my_variable')\n",
        "\n",
        "print('name  : ', v.name)\n",
        "print('type  : ', v.dtype)\n",
        "print('shape : ', v.shape)\n",
        "print('device: ', v.device)"
      ]
    },
    {
      "cell_type": "markdown",
      "metadata": {
        "id": "k2acM-dKE5Ta"
      },
      "source": [
        "<div class='alert alert-info'><b>Note</b>: Tensorflow is really similar to NumPy, and you can think of the tensors as an ndimensional array.</div>\n"
      ]
    },
    {
      "cell_type": "markdown",
      "metadata": {
        "id": "s8MS6FxvE5Ta"
      },
      "source": [
        "![tf_to_np](imgs/tf_to_np.png)\n",
        "Source: CS227d, NLP, Stanford"
      ]
    },
    {
      "cell_type": "markdown",
      "metadata": {
        "id": "pPizjYPIE5Ta"
      },
      "source": [
        "# 2. Operations / Ops\n",
        "Operations can be carried out directly or assigned to variables."
      ]
    },
    {
      "cell_type": "code",
      "execution_count": null,
      "metadata": {
        "scrolled": true,
        "id": "Bq1RsFDjE5Ta",
        "outputId": "e91ee540-d892-46a7-b86a-56daf0ebed2f"
      },
      "outputs": [
        {
          "data": {
            "text/plain": [
              "<tf.Tensor: shape=(), dtype=int32, numpy=7>"
            ]
          },
          "execution_count": 62,
          "metadata": {},
          "output_type": "execute_result"
        }
      ],
      "source": [
        "op1 = tf.add(a,b)\n",
        "op1"
      ]
    },
    {
      "cell_type": "code",
      "execution_count": null,
      "metadata": {
        "id": "d12O3HgoE5Tb",
        "outputId": "70fd0011-bba3-41b5-c4ae-46ebcd18caa8"
      },
      "outputs": [
        {
          "data": {
            "text/plain": [
              "<tf.Tensor: shape=(), dtype=int32, numpy=7>"
            ]
          },
          "execution_count": 63,
          "metadata": {},
          "output_type": "execute_result"
        }
      ],
      "source": [
        "a+b # same as tf.add"
      ]
    },
    {
      "cell_type": "code",
      "execution_count": null,
      "metadata": {
        "id": "VZ1O62lIE5Tb",
        "outputId": "a3aafb91-66f2-49d3-946b-428f102d7d6c"
      },
      "outputs": [
        {
          "data": {
            "text/plain": [
              "<tf.Tensor: shape=(), dtype=int32, numpy=189>"
            ]
          },
          "execution_count": 64,
          "metadata": {},
          "output_type": "execute_result"
        }
      ],
      "source": [
        "v = a+b\n",
        "u = v+2\n",
        "w = v*u\n",
        "z = w*3\n",
        "z"
      ]
    },
    {
      "cell_type": "markdown",
      "metadata": {
        "id": "Z24GxeT_E5Tb"
      },
      "source": [
        "## Look at the computational graph with @tf.function\n",
        "\n",
        "`@tf.function` is a very useful module that can be used to convert simple python functions into a highly optimized computational graph that can be run on any runtime environment. When we build a model and then train it TensorFlow we can compile the model and optimize the executions."
      ]
    },
    {
      "cell_type": "code",
      "execution_count": null,
      "metadata": {
        "id": "cqstDl21E5Tb"
      },
      "outputs": [],
      "source": [
        "@tf.function\n",
        "def func2(a,b):\n",
        "        z = tf.multiply(a,b, name='z')\n",
        "        y1 = tf.constant(3, name='3')\n",
        "        y2 = tf.constant(4)\n",
        "        w1 = tf.add(z, y1, name='w1')\n",
        "        w2 = tf.add(z, y2, name='w2')\n",
        "\n",
        "        return(w1+w2)"
      ]
    },
    {
      "cell_type": "code",
      "execution_count": null,
      "metadata": {
        "id": "YY7t9rD-E5Tc",
        "outputId": "84fe2f40-8b83-499c-dbca-4607d9efc8a0"
      },
      "outputs": [
        {
          "data": {
            "text/plain": [
              "<tf.Tensor: shape=(), dtype=int32, numpy=407>"
            ]
          },
          "execution_count": 66,
          "metadata": {},
          "output_type": "execute_result"
        }
      ],
      "source": [
        "func(10, 20)"
      ]
    },
    {
      "cell_type": "code",
      "execution_count": null,
      "metadata": {
        "id": "RjVJJIIvE5Tc"
      },
      "outputs": [],
      "source": [
        "@tf.function\n",
        "def func(a,b):\n",
        "    with tf.name_scope('first'):\n",
        "        z = tf.multiply(a,b, name='z')\n",
        "    with tf.name_scope('second'):\n",
        "        y1 = tf.constant(3, name='3')\n",
        "        y2 = tf.constant(4)\n",
        "        w1 = tf.add(z, y1, name='w1')\n",
        "        w2 = tf.add(z, y2, name='w2')\n",
        "\n",
        "    return(w1+w2)"
      ]
    },
    {
      "cell_type": "code",
      "execution_count": null,
      "metadata": {
        "id": "EFjv9Bn1E5Tc"
      },
      "outputs": [],
      "source": [
        "# Setup a writer to save graph information and TensorFlow logs\n",
        "# To be displayed with Tensorboard\n",
        "\n",
        "writer = tf.summary.create_file_writer(logdir)\n",
        "tf.summary.trace_on()"
      ]
    },
    {
      "cell_type": "code",
      "execution_count": null,
      "metadata": {
        "id": "1Ka__1EsE5Td"
      },
      "outputs": [],
      "source": [
        "a = tf.constant(3)\n",
        "b = tf.constant(4)\n",
        "func(a,b)\n",
        "with writer.as_default():\n",
        "    tf.summary.trace_export(\n",
        "        name=\"func2\",\n",
        "        step=0,\n",
        "        profiler_outdir=logdir)"
      ]
    },
    {
      "cell_type": "code",
      "execution_count": null,
      "metadata": {
        "id": "87hZ_iiGE5Td",
        "outputId": "83237f55-5e9e-4549-abbd-1bd728da8d88"
      },
      "outputs": [
        {
          "data": {
            "text/plain": [
              "'C:\\\\Users\\\\debjit\\\\tf_logs/r20240506065106/'"
            ]
          },
          "execution_count": 73,
          "metadata": {},
          "output_type": "execute_result"
        }
      ],
      "source": [
        "logdir"
      ]
    },
    {
      "cell_type": "code",
      "execution_count": null,
      "metadata": {
        "scrolled": true,
        "id": "zpL6ScdQE5Td",
        "outputId": "0fbd0422-1f0d-4abb-8586-89f02f3d934a"
      },
      "outputs": [
        {
          "name": "stderr",
          "output_type": "stream",
          "text": [
            "'tensorboard' is not recognized as an internal or external command,\n",
            "operable program or batch file.\n"
          ]
        }
      ],
      "source": [
        "# run tensorboard in the shell\n",
        "!tensorboard --logdir=$logdir"
      ]
    },
    {
      "cell_type": "markdown",
      "metadata": {
        "id": "hMof-7u0E5Te"
      },
      "source": [
        "### tf.function and Conditional statements\n",
        "It is difficult to use conditions in graphs but we could implement that easily using `@tf.function` decorator"
      ]
    },
    {
      "cell_type": "code",
      "execution_count": null,
      "metadata": {
        "id": "VIJA5-EaE5Te"
      },
      "outputs": [],
      "source": [
        "@tf.function\n",
        "def g(x):\n",
        "    y = tf.reduce_sum(x)\n",
        "    if y > 0:\n",
        "        return y\n",
        "    return tf.abs(y)"
      ]
    },
    {
      "cell_type": "code",
      "execution_count": null,
      "metadata": {
        "id": "jwTOMPZwE5Te",
        "outputId": "c24e2f44-8481-405e-f50e-5ad4bb66b484"
      },
      "outputs": [
        {
          "name": "stdout",
          "output_type": "stream",
          "text": [
            "def tf__g(x):\n",
            "    with ag__.FunctionScope('g', 'fscope', ag__.ConversionOptions(recursive=True, user_requested=True, optional_features=(), internal_convert_user_code=True)) as fscope:\n",
            "        do_return = False\n",
            "        retval_ = ag__.UndefinedReturnValue()\n",
            "        y = ag__.converted_call(ag__.ld(tf).reduce_sum, (ag__.ld(x),), None, fscope)\n",
            "\n",
            "        def get_state():\n",
            "            return (do_return, retval_)\n",
            "\n",
            "        def set_state(vars_):\n",
            "            nonlocal do_return, retval_\n",
            "            (do_return, retval_) = vars_\n",
            "\n",
            "        def if_body():\n",
            "            nonlocal do_return, retval_\n",
            "            try:\n",
            "                do_return = True\n",
            "                retval_ = ag__.ld(y)\n",
            "            except:\n",
            "                do_return = False\n",
            "                raise\n",
            "\n",
            "        def else_body():\n",
            "            nonlocal do_return, retval_\n",
            "            try:\n",
            "                do_return = True\n",
            "                retval_ = ag__.converted_call(ag__.ld(tf).abs, (ag__.ld(y),), None, fscope)\n",
            "            except:\n",
            "                do_return = False\n",
            "                raise\n",
            "        ag__.if_stmt((ag__.ld(y) > 0), if_body, else_body, get_state, set_state, ('do_return', 'retval_'), 2)\n",
            "        return fscope.ret(retval_, do_return)\n",
            "\n"
          ]
        }
      ],
      "source": [
        "print(tf.autograph.to_code(g.python_function))"
      ]
    },
    {
      "cell_type": "markdown",
      "metadata": {
        "id": "lf8IIMUlE5Te"
      },
      "source": [
        "# Calculate gradients"
      ]
    },
    {
      "cell_type": "markdown",
      "metadata": {
        "id": "uU_IFH52E5Tf"
      },
      "source": [
        "Gradient evaluation is very importnat machine learning because it is based on function optimization. You can use `tf.GradientTape()` method to record the gradient of an arbitrary function"
      ]
    },
    {
      "cell_type": "code",
      "execution_count": null,
      "metadata": {
        "id": "1czNglAYE5Tf",
        "outputId": "b18a1b5a-72af-43e1-ca11-f9ce56812cf9"
      },
      "outputs": [
        {
          "name": "stdout",
          "output_type": "stream",
          "text": [
            "The gradient of exp at 3.0 is 28.08553695678711\n"
          ]
        }
      ],
      "source": [
        "w = tf.Variable(3.0)\n",
        "\n",
        "# Gradient scope for the function w^2\n",
        "with tf.GradientTape() as tape:\n",
        "    expression = tf.exp(w) + 2 * w +  w * w\n",
        "\n",
        "grad = tape.gradient(expression, w)\n",
        "print(f'The gradient of exp at {w.numpy()} is {grad.numpy()}')"
      ]
    },
    {
      "cell_type": "markdown",
      "metadata": {
        "id": "MhnOpVTME5Tf"
      },
      "source": [
        "### Gradient of the Sigmoid function\n",
        "In this example we evaluate the gradient of the sigmoid function\n",
        "\n",
        "$$\\sigma(x) = \\frac{1}{1+e^{-x}}$$\n",
        "\n",
        "Note that\n",
        "\n",
        "$$\\sigma'(x) = \\frac{e^{-x}}{(1+e^{-x})^2} = \\sigma(x)(1-\\sigma(x)) $$\n",
        "\n",
        "For instance\n",
        "\n",
        "$$\\sigma'(0) = \\sigma(0)(1-\\sigma(0)) = \\frac{1}{2}\\left(1-\\frac{1}{2} \\right) = \\frac{1}{4}$$"
      ]
    },
    {
      "cell_type": "code",
      "execution_count": null,
      "metadata": {
        "id": "vg8Cwx0hE5Tf"
      },
      "outputs": [],
      "source": [
        "def sigmoid(x):\n",
        "    return 1/(1 + tf.exp(-x))"
      ]
    },
    {
      "cell_type": "code",
      "execution_count": null,
      "metadata": {
        "id": "WxRsOnaSE5Tg",
        "outputId": "55752150-963a-484d-d56f-6a17bc4f77fd"
      },
      "outputs": [
        {
          "name": "stdout",
          "output_type": "stream",
          "text": [
            "The gradient of the sigmoid function at 0.0 is  0.25\n"
          ]
        }
      ],
      "source": [
        "#define a varaible\n",
        "x = tf.Variable(0.)\n",
        "\n",
        "#record the gradient\n",
        "with tf.GradientTape() as tape:\n",
        "    sig = sigmoid(x)\n",
        "\n",
        "res = tape.gradient(sig, x).numpy()\n",
        "print('The gradient of the sigmoid function at 0.0 is ', res)"
      ]
    },
    {
      "cell_type": "code",
      "execution_count": null,
      "metadata": {
        "id": "HyvqPrw9E5Tg"
      },
      "outputs": [],
      "source": []
    }
  ],
  "metadata": {
    "kernelspec": {
      "display_name": "Python 3",
      "language": "python",
      "name": "python3"
    },
    "language_info": {
      "codemirror_mode": {
        "name": "ipython",
        "version": 3
      },
      "file_extension": ".py",
      "mimetype": "text/x-python",
      "name": "python",
      "nbconvert_exporter": "python",
      "pygments_lexer": "ipython3",
      "version": "3.6.8"
    },
    "colab": {
      "provenance": [],
      "include_colab_link": true
    }
  },
  "nbformat": 4,
  "nbformat_minor": 0
}