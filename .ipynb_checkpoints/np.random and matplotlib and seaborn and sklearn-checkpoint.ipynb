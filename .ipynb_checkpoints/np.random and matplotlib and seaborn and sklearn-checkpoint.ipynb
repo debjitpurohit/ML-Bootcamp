{
 "cells": [
  {
   "cell_type": "code",
   "execution_count": 1,
   "id": "e2d88425",
   "metadata": {},
   "outputs": [
    {
     "data": {
      "text/plain": [
       "0.10883584898885601"
      ]
     },
     "execution_count": 1,
     "metadata": {},
     "output_type": "execute_result"
    }
   ],
   "source": [
    "import numpy as np\n",
    "np.random.random()"
   ]
  },
  {
   "cell_type": "code",
   "execution_count": 3,
   "id": "f28f7842",
   "metadata": {},
   "outputs": [
    {
     "data": {
      "text/plain": [
       "array([6, 7, 3, 0, 2, 2, 5, 8, 1, 8, 7, 3, 2, 0, 3, 8, 9, 9, 5, 5])"
      ]
     },
     "execution_count": 3,
     "metadata": {},
     "output_type": "execute_result"
    }
   ],
   "source": [
    "# we want to create a array from 0 to 10 having 20 element between that\n",
    "np.random.randint(0,10,20)"
   ]
  },
  {
   "cell_type": "code",
   "execution_count": 4,
   "id": "25856d39",
   "metadata": {},
   "outputs": [
    {
     "data": {
      "text/plain": [
       "array([[7, 5, 2, 5, 5],\n",
       "       [4, 7, 8, 0, 5],\n",
       "       [7, 1, 4, 9, 2],\n",
       "       [2, 8, 6, 6, 3]])"
      ]
     },
     "execution_count": 4,
     "metadata": {},
     "output_type": "execute_result"
    }
   ],
   "source": [
    "#converting into 2d\n",
    "np.random.randint(0,10,20).reshape(4,5)"
   ]
  },
  {
   "cell_type": "code",
   "execution_count": 18,
   "id": "0902d3fc",
   "metadata": {},
   "outputs": [
    {
     "data": {
      "text/plain": [
       "5.25"
      ]
     },
     "execution_count": 18,
     "metadata": {},
     "output_type": "execute_result"
    }
   ],
   "source": [
    "a=np.random.randint(0,10,size=(4,5,2))\n",
    "a.mean()"
   ]
  },
  {
   "cell_type": "code",
   "execution_count": 19,
   "id": "4822e166",
   "metadata": {},
   "outputs": [],
   "source": [
    "data=np.random.randn(10)"
   ]
  },
  {
   "cell_type": "code",
   "execution_count": 10,
   "id": "52cda96d",
   "metadata": {},
   "outputs": [
    {
     "data": {
      "text/plain": [
       "array([ 0.41758564,  1.0812173 ,  1.54861256,  0.50063538,  0.61706958,\n",
       "        0.51319367, -1.33358138,  2.26995379, -0.11766591,  1.49268358])"
      ]
     },
     "execution_count": 10,
     "metadata": {},
     "output_type": "execute_result"
    }
   ],
   "source": [
    "data"
   ]
  },
  {
   "cell_type": "code",
   "execution_count": 15,
   "id": "00b7d18b",
   "metadata": {},
   "outputs": [
    {
     "data": {
      "text/plain": [
       "(0.6989704202246836, 0.9446623968425331)"
      ]
     },
     "execution_count": 15,
     "metadata": {},
     "output_type": "execute_result"
    }
   ],
   "source": [
    "data.mean(),data.std()"
   ]
  },
  {
   "cell_type": "code",
   "execution_count": 21,
   "id": "a3605816",
   "metadata": {},
   "outputs": [
    {
     "data": {
      "text/plain": [
       "array([[4, 0, 3, 8, 0, 4],\n",
       "       [1, 3, 3, 8, 0, 9],\n",
       "       [6, 9, 7, 8, 9, 2],\n",
       "       [1, 0, 4, 3, 6, 1],\n",
       "       [4, 3, 8, 3, 5, 8]])"
      ]
     },
     "execution_count": 21,
     "metadata": {},
     "output_type": "execute_result"
    }
   ],
   "source": [
    "b=np.random.randint(0,10,size=(5,6))\n",
    "b"
   ]
  },
  {
   "cell_type": "code",
   "execution_count": 27,
   "id": "3ce2f3d9",
   "metadata": {},
   "outputs": [
    {
     "data": {
      "text/plain": [
       "array([[19],\n",
       "       [24],\n",
       "       [41],\n",
       "       [15],\n",
       "       [31]])"
      ]
     },
     "execution_count": 27,
     "metadata": {},
     "output_type": "execute_result"
    }
   ],
   "source": [
    "#keepdims means keeping 2d data\n",
    "b.sum(axis=1,keepdims=True)"
   ]
  },
  {
   "cell_type": "code",
   "execution_count": 28,
   "id": "803bf891",
   "metadata": {},
   "outputs": [
    {
     "data": {
      "text/plain": [
       "130"
      ]
     },
     "execution_count": 28,
     "metadata": {},
     "output_type": "execute_result"
    }
   ],
   "source": [
    "b.sum()"
   ]
  },
  {
   "cell_type": "code",
   "execution_count": null,
   "id": "724c4fd5",
   "metadata": {},
   "outputs": [],
   "source": []
  }
 ],
 "metadata": {
  "kernelspec": {
   "display_name": "Python 3",
   "language": "python",
   "name": "python3"
  },
  "language_info": {
   "codemirror_mode": {
    "name": "ipython",
    "version": 3
   },
   "file_extension": ".py",
   "mimetype": "text/x-python",
   "name": "python",
   "nbconvert_exporter": "python",
   "pygments_lexer": "ipython3",
   "version": "3.6.8"
  }
 },
 "nbformat": 4,
 "nbformat_minor": 5
}
