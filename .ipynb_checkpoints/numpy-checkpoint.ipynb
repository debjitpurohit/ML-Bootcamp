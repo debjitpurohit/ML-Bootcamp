{
 "cells": [
  {
   "cell_type": "code",
   "execution_count": 2,
   "id": "36a7a4a8",
   "metadata": {},
   "outputs": [],
   "source": [
    "import numpy as np\n",
    "it=[3,6,7,11]\n"
   ]
  },
  {
   "cell_type": "code",
   "execution_count": 5,
   "id": "c389c4e4",
   "metadata": {},
   "outputs": [
    {
     "data": {
      "text/plain": [
       "array([ 3,  6,  7, 11])"
      ]
     },
     "execution_count": 5,
     "metadata": {},
     "output_type": "execute_result"
    }
   ],
   "source": [
    "n=np.array(it)"
   ]
  },
  {
   "cell_type": "code",
   "execution_count": 6,
   "id": "985362fc",
   "metadata": {},
   "outputs": [
    {
     "data": {
      "text/plain": [
       "numpy.ndarray"
      ]
     },
     "execution_count": 6,
     "metadata": {},
     "output_type": "execute_result"
    }
   ],
   "source": [
    "type(n)"
   ]
  },
  {
   "cell_type": "code",
   "execution_count": 7,
   "id": "40a40118",
   "metadata": {},
   "outputs": [
    {
     "data": {
      "text/plain": [
       "array({2, 5, 7}, dtype=object)"
      ]
     },
     "execution_count": 7,
     "metadata": {},
     "output_type": "execute_result"
    }
   ],
   "source": [
    "np.array({2,5,7})"
   ]
  },
  {
   "cell_type": "code",
   "execution_count": 10,
   "id": "bfb4dac1",
   "metadata": {},
   "outputs": [
    {
     "data": {
      "text/plain": [
       "array({'apple': 100, 'mango': 200}, dtype=object)"
      ]
     },
     "execution_count": 10,
     "metadata": {},
     "output_type": "execute_result"
    }
   ],
   "source": [
    "d={\"apple\":100,\"mango\":200}\n",
    "np.array(d)"
   ]
  },
  {
   "cell_type": "code",
   "execution_count": 14,
   "id": "ad632a79",
   "metadata": {},
   "outputs": [
    {
     "name": "stderr",
     "output_type": "stream",
     "text": [
      "c:\\program files\\python36\\lib\\site-packages\\ipykernel_launcher.py:1: VisibleDeprecationWarning: Creating an ndarray from ragged nested sequences (which is a list-or-tuple of lists-or-tuples-or ndarrays with different lengths or shapes) is deprecated. If you meant to do this, you must specify 'dtype=object' when creating the ndarray\n",
      "  \"\"\"Entry point for launching an IPython kernel.\n"
     ]
    },
    {
     "data": {
      "text/plain": [
       "array([list([1, 2]), list([3, 4, 5])], dtype=object)"
      ]
     },
     "execution_count": 14,
     "metadata": {},
     "output_type": "execute_result"
    }
   ],
   "source": [
    "twod=np.array([[1,2],[3,4,5]])\n",
    "twod"
   ]
  },
  {
   "cell_type": "code",
   "execution_count": 17,
   "id": "ee4bf38d",
   "metadata": {},
   "outputs": [
    {
     "data": {
      "text/plain": [
       "array(['2', '5', '6', '7'], dtype='<U11')"
      ]
     },
     "execution_count": 17,
     "metadata": {},
     "output_type": "execute_result"
    }
   ],
   "source": [
    "y=np.array([2,5,6,\"7\"])\n",
    "y"
   ]
  },
  {
   "cell_type": "code",
   "execution_count": 26,
   "id": "f87bcdd6",
   "metadata": {},
   "outputs": [
    {
     "data": {
      "text/plain": [
       "[9, 11, 13, 15]"
      ]
     },
     "execution_count": 26,
     "metadata": {},
     "output_type": "execute_result"
    }
   ],
   "source": [
    "list(range(9,16,2))\n",
    "\n"
   ]
  },
  {
   "cell_type": "code",
   "execution_count": 29,
   "id": "58177f4e",
   "metadata": {},
   "outputs": [
    {
     "data": {
      "text/plain": [
       "array([15, 17, 19, 21, 23, 25, 27, 29])"
      ]
     },
     "execution_count": 29,
     "metadata": {},
     "output_type": "execute_result"
    }
   ],
   "source": [
    "a=np.arange(15,30,2)\n",
    "a"
   ]
  },
  {
   "cell_type": "code",
   "execution_count": 30,
   "id": "3749bf58",
   "metadata": {},
   "outputs": [],
   "source": [
    "np.arange?\n",
    "#to know details about arange ....open docstring\n"
   ]
  },
  {
   "cell_type": "code",
   "execution_count": null,
   "id": "c03cb1bb",
   "metadata": {},
   "outputs": [],
   "source": []
  }
 ],
 "metadata": {
  "kernelspec": {
   "display_name": "Python 3",
   "language": "python",
   "name": "python3"
  },
  "language_info": {
   "codemirror_mode": {
    "name": "ipython",
    "version": 3
   },
   "file_extension": ".py",
   "mimetype": "text/x-python",
   "name": "python",
   "nbconvert_exporter": "python",
   "pygments_lexer": "ipython3",
   "version": "3.6.8"
  }
 },
 "nbformat": 4,
 "nbformat_minor": 5
}
